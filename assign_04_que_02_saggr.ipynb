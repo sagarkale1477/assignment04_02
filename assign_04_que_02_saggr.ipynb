{
 "cells": [
  {
   "cell_type": "code",
   "execution_count": 1,
   "id": "5f1b8e62",
   "metadata": {},
   "outputs": [
    {
     "name": "stdout",
     "output_type": "stream",
     "text": [
      "Sample list : [1, 2, 3, 4, 5, 6, 7]\n",
      "Triple of list numbers : [3, 6, 9, 12, 15, 18, 21]\n"
     ]
    }
   ],
   "source": [
    "l=[1,2,3,4,5,6,7] \n",
    "print(\"Sample list :\",l)\n",
    "triple=(map(lambda x:(x)*3,l))\n",
    "print(\"Triple of list numbers :\",list(triple))"
   ]
  },
  {
   "cell_type": "code",
   "execution_count": null,
   "id": "c7c56f7d",
   "metadata": {},
   "outputs": [],
   "source": []
  }
 ],
 "metadata": {
  "kernelspec": {
   "display_name": "Python 3 (ipykernel)",
   "language": "python",
   "name": "python3"
  },
  "language_info": {
   "codemirror_mode": {
    "name": "ipython",
    "version": 3
   },
   "file_extension": ".py",
   "mimetype": "text/x-python",
   "name": "python",
   "nbconvert_exporter": "python",
   "pygments_lexer": "ipython3",
   "version": "3.10.4"
  }
 },
 "nbformat": 4,
 "nbformat_minor": 5
}
